{
 "cells": [
  {
   "cell_type": "code",
   "execution_count": 1,
   "id": "50af8417-e4e6-48d2-9da3-8cc6e33958fd",
   "metadata": {},
   "outputs": [],
   "source": [
    "import pandas as pd\n",
    "import re\n",
    "import os\n",
    "import ollama\n",
    "import pymupdf\n",
    "from datetime import datetime"
   ]
  },
  {
   "cell_type": "code",
   "execution_count": 2,
   "id": "3ff8617b-ea0d-4e6a-9463-28ba4882be19",
   "metadata": {},
   "outputs": [],
   "source": [
    "# Make sure to download all pdf files to the raw_docs folder\n",
    "pattern = re.compile(r\"Sub(\\d{2,3})\\.pdf\")\n",
    "pdf_file_dict = {}\n",
    "for filename in os.listdir(\"raw_docs\"):\n",
    "    match = pattern.match(filename)\n",
    "    if match:\n",
    "        number = int(match.group(1))\n",
    "        pdf_file_dict[number] = \"raw_docs/\"+filename"
   ]
  },
  {
   "cell_type": "code",
   "execution_count": 3,
   "id": "aa810478-d54a-457b-9394-218d58721e09",
   "metadata": {},
   "outputs": [],
   "source": [
    "df = pd.DataFrame(columns=[\"no\", \"org_ind\", \"type\", \"name\", \"state\", \"pdf_file_path\", \"num_pages\", \"file_size\", \"support_sentiment\"])"
   ]
  },
  {
   "cell_type": "code",
   "execution_count": 4,
   "id": "67f5d1df-ef17-4b1e-83a0-454529275a67",
   "metadata": {},
   "outputs": [],
   "source": [
    "file_path = 'downloaded_html/Flat_Submissions.rawh'\n",
    "with open(file_path, 'r', encoding='utf-8') as file:\n",
    "    content = file.read()\n",
    "named_submissions = re.findall(r'<td>(\\d+)</td><td><strong>(.*?)</strong>', content)\n",
    "named_submissions_dict = {int(key): value for key, value in named_submissions}\n",
    "namewithheld_submissions = re.findall(r'<td>(\\d+)</td><td>Name Withheld&nbsp', content)\n",
    "confidential_submissions = re.findall(r'<td>(\\d+)</td><td>Confidential</td>', content)"
   ]
  },
  {
   "cell_type": "code",
   "execution_count": 5,
   "id": "cb373aaf-5fc5-4da6-9f49-dddc9c59af53",
   "metadata": {},
   "outputs": [],
   "source": [
    "named_set = set([int(t[0]) for t in named_submissions])\n",
    "namewithheld_set = set([int(t) for t in namewithheld_submissions])\n",
    "confidential_set = set([int(t) for t in confidential_submissions])\n",
    "assert not (named_set & namewithheld_set & confidential_set) #See no intersections"
   ]
  },
  {
   "cell_type": "code",
   "execution_count": 6,
   "id": "dced2574-a01a-4cf4-97c6-c40e6fdcf4d8",
   "metadata": {},
   "outputs": [
    {
     "data": {
      "text/plain": [
       "(180, 1, 180)"
      ]
     },
     "execution_count": 6,
     "metadata": {},
     "output_type": "execute_result"
    }
   ],
   "source": [
    "all_numbers = named_set | namewithheld_set | confidential_set\n",
    "nn = len(all_numbers)\n",
    "nn, min(all_numbers), max(all_numbers)"
   ]
  },
  {
   "cell_type": "code",
   "execution_count": 7,
   "id": "c61a8974-c657-4de7-95aa-078157a10e51",
   "metadata": {},
   "outputs": [],
   "source": [
    "for i in range(1,nn+1):\n",
    "    fn = pdf_file_dict.get(i, \"\")\n",
    "    if i in named_set:\n",
    "        df.loc[i] = [i, \"\", \"named\", named_submissions_dict[i], \"\",fn , -1, -1, \"\"]\n",
    "    elif i in namewithheld_set:\n",
    "        df.loc[i] = [i, \"\", \"name-withheld\", \"\", \"\", fn, -1, -1, \"\"]\n",
    "    elif i in confidential_set:\n",
    "        df.loc[i] = [i, \"\", \"confidential\", \"\", \"\",fn, -1, -1, \"\"]\n",
    "    else:\n",
    "        raise ValueError(\"Error\")"
   ]
  },
  {
   "cell_type": "markdown",
   "id": "c6c29c04-4dd0-4bbe-963f-8e2d0b2c940c",
   "metadata": {},
   "source": [
    "### Determine the state"
   ]
  },
  {
   "cell_type": "code",
   "execution_count": 8,
   "id": "8809f5ed-22fb-4b74-bd8c-fe964ce591e5",
   "metadata": {},
   "outputs": [
    {
     "name": "stdout",
     "output_type": "stream",
     "text": [
      "['ACT', 'NSW', 'QLD', 'SA', 'Unavailable Information', 'VIC', 'WA']\n"
     ]
    }
   ],
   "source": [
    "file_path = 'downloaded_html/State_Ter_Submissions.rawh'\n",
    "with open(file_path, 'r', encoding='utf-8') as file:\n",
    "    content = file.read()\n",
    "pattern = re.compile(r\"Submissions from : <strong>(.*?)</strong></p>(.*?)((?=<p>Submissions from : <strong>)|$)\", re.DOTALL)\n",
    "matches = pattern.findall(content)\n",
    "states_options = [m[0] for m in matches]\n",
    "print(states_options)"
   ]
  },
  {
   "cell_type": "code",
   "execution_count": 9,
   "id": "cddff98b-2af6-48dc-a3eb-39c90db3f4bc",
   "metadata": {},
   "outputs": [],
   "source": [
    "for m in matches:\n",
    "    state = m[0]\n",
    "    nums = [int(ss) for ss in re.findall(r'<td>(\\d+)</td><td><strong>.*?</strong>', m[1])]\n",
    "    for i in nums:\n",
    "        df.at[i, \"state\"] = state"
   ]
  },
  {
   "cell_type": "markdown",
   "id": "a2263255-1da4-46ae-89ea-2ae210fd8dfe",
   "metadata": {},
   "source": [
    "### Determine if by organization or individual"
   ]
  },
  {
   "cell_type": "code",
   "execution_count": 10,
   "id": "ce2a3476-dacb-4925-87db-1c1c96236269",
   "metadata": {},
   "outputs": [],
   "source": [
    "file_path = 'downloaded_html/Org_Ind_Submissions.rawh'\n",
    "with open(file_path, 'r', encoding='utf-8') as file:\n",
    "    content = file.read()\n",
    "pattern = re.compile(r\"Submissions by : <strong>(.*?)</strong></p>(.*?)((?=<p>Submissions by : <strong>)|$)\", re.DOTALL)\n",
    "matches = pattern.findall(content)"
   ]
  },
  {
   "cell_type": "code",
   "execution_count": 11,
   "id": "caee418d-a352-4b83-9571-a2a728b40355",
   "metadata": {},
   "outputs": [],
   "source": [
    "for m in matches:\n",
    "    type_sub = m[0]\n",
    "    sub_matches = [int(ss) for ss in re.findall(r'<td>(\\d+)</td><td><strong>.*?</strong>', m[1])]\n",
    "    if type_sub == 'Individual':\n",
    "        for i in sub_matches:\n",
    "            df.at[i,\"org_ind\"] = \"individual\"\n",
    "    if type_sub == 'Organisation':\n",
    "        for i in sub_matches:\n",
    "            df.at[i,\"org_ind\"] = \"organisation\""
   ]
  },
  {
   "cell_type": "code",
   "execution_count": 12,
   "id": "3d1ee6dc-7bbb-4992-9a2b-c97f19bc1afc",
   "metadata": {},
   "outputs": [],
   "source": [
    "df.to_csv('submissions.csv', index=False)"
   ]
  },
  {
   "cell_type": "markdown",
   "id": "359aa892-24e6-4f80-8faf-1548d31e6ddd",
   "metadata": {},
   "source": [
    "### Run the LLM"
   ]
  },
  {
   "cell_type": "code",
   "execution_count": 13,
   "id": "1d73e486-5ef5-46e2-ba97-eb48bcf84ab5",
   "metadata": {},
   "outputs": [],
   "source": [
    "max_text_length = 5000;"
   ]
  },
  {
   "cell_type": "code",
   "execution_count": 14,
   "id": "ace1638f-7501-406e-9863-8284ce8e61c9",
   "metadata": {},
   "outputs": [],
   "source": [
    "prompt_supports_opposes = \"\"\"\n",
    "The text below is for a submission to a Senate Inquiry. \n",
    "A submission either supports the inquiry, meaning that something needs to done about the antisemitism.\n",
    "Alternatively, a submission does NOT support the inquiry meaning that while opposing antisemitism, \n",
    "the submission states that an inquiry of the nature proposed is not needed.\n",
    "Please state if the text supports the inquiry by responding with one word: 'Supports'.\n",
    "Or if the text opposes the inquiry by responding with 'Opposes'.\n",
    "If it is not very clear if the answer is `Supports' or `Opposes'  respond with `Unclear'.\n",
    "*******\n",
    "\"\"\""
   ]
  },
  {
   "cell_type": "code",
   "execution_count": 15,
   "id": "4cee0fa0-816a-4178-9bf3-88d3b4c99072",
   "metadata": {},
   "outputs": [
    {
     "name": "stdout",
     "output_type": "stream",
     "text": [
      "Submission 1: supports\t\t\t2024-08-27 17:45:07\n",
      "Submission 2: supports\t\t\t2024-08-27 17:45:17\n",
      "Submission 3: supports\t\t\t2024-08-27 17:45:21\n",
      "Submission 4: supports\t\t\t2024-08-27 17:45:27\n",
      "Submission 5: opposes\t\t\t2024-08-27 17:45:37\n",
      "Submission 6: supports\t\t\t2024-08-27 17:45:42\n",
      "Submission 7: supports\t\t\t2024-08-27 17:45:49\n",
      "Submission 8: supports\t\t\t2024-08-27 17:45:56\n",
      "Submission 9: supports\t\t\t2024-08-27 17:46:03\n",
      "Submission 10: supports\t\t\t2024-08-27 17:46:12\n",
      "Submission 11: supports\t\t\t2024-08-27 17:46:18\n",
      "Submission 12: supports\t\t\t2024-08-27 17:46:25\n",
      "Submission 13: supports\t\t\t2024-08-27 17:46:32\n",
      "Skipping 14\n",
      "Skipping 15\n",
      "Submission 16: supports\t\t\t2024-08-27 17:46:37\n",
      "Submission 17: supports\t\t\t2024-08-27 17:46:41\n",
      "Submission 18: supports\t\t\t2024-08-27 17:46:45\n",
      "Submission 19: supports\t\t\t2024-08-27 17:46:55\n",
      "Skipping 20\n",
      "Submission 21: opposes\t\t\t2024-08-27 17:47:00\n",
      "Submission 22: supports\t\t\t2024-08-27 17:47:04\n",
      "Submission 23: supports\t\t\t2024-08-27 17:47:12\n",
      "Submission 24: supports\t\t\t2024-08-27 17:47:19\n",
      "Submission 25: supports\t\t\t2024-08-27 17:47:28\n",
      "Submission 26: unclear\t\t\t2024-08-27 17:47:33\n",
      "Submission 27: supports\t\t\t2024-08-27 17:47:35\n",
      "Submission 28: opposes\t\t\t2024-08-27 17:47:38\n",
      "Submission 29: supports\t\t\t2024-08-27 17:47:42\n",
      "Submission 30: supports\t\t\t2024-08-27 17:47:51\n",
      "Submission 31: supports\t\t\t2024-08-27 17:48:00\n",
      "Submission 32: supports\t\t\t2024-08-27 17:48:05\n",
      "Submission 33: supports\t\t\t2024-08-27 17:48:09\n",
      "Submission 34: supports\t\t\t2024-08-27 17:48:13\n",
      "Submission 35: supports\t\t\t2024-08-27 17:48:16\n",
      "Submission 36: supports\t\t\t2024-08-27 17:48:27\n",
      "Submission 37: supports\t\t\t2024-08-27 17:48:36\n",
      "Submission 38: supports\t\t\t2024-08-27 17:48:41\n",
      "Submission 39: supports\t\t\t2024-08-27 17:48:50\n",
      "Submission 40: supports\t\t\t2024-08-27 17:48:59\n",
      "Submission 41: supports\t\t\t2024-08-27 17:49:04\n",
      "Submission 42: supports\t\t\t2024-08-27 17:49:13\n",
      "Submission 43: supports\t\t\t2024-08-27 17:49:21\n",
      "Submission 44: supports\t\t\t2024-08-27 17:49:30\n",
      "Submission 45: supports\t\t\t2024-08-27 17:49:35\n",
      "Submission 46: supports\t\t\t2024-08-27 17:49:42\n",
      "Submission 47: supports\t\t\t2024-08-27 17:49:47\n",
      "Submission 48: supports\t\t\t2024-08-27 17:49:54\n",
      "Submission 49: supports\t\t\t2024-08-27 17:50:04\n",
      "Submission 50: supports\t\t\t2024-08-27 17:50:13\n",
      "Submission 51: supports\t\t\t2024-08-27 17:50:22\n",
      "Submission 52: supports\t\t\t2024-08-27 17:50:30\n",
      "Submission 53: supports\t\t\t2024-08-27 17:50:39\n",
      "Submission 54: supports\t\t\t2024-08-27 17:50:48\n",
      "Submission 55: supports\t\t\t2024-08-27 17:50:57\n",
      "Submission 56: supports\t\t\t2024-08-27 17:51:04\n",
      "Submission 57: supports\t\t\t2024-08-27 17:51:12\n",
      "Skipping 58\n",
      "Submission 59: supports\t\t\t2024-08-27 17:51:19\n",
      "Submission 60: supports\t\t\t2024-08-27 17:51:25\n",
      "Submission 61: supports\t\t\t2024-08-27 17:51:34\n",
      "Skipping 62\n",
      "Skipping 63\n",
      "Skipping 64\n",
      "Skipping 65\n",
      "Submission 66: supports\t\t\t2024-08-27 17:51:40\n",
      "Submission 67: opposes\t\t\t2024-08-27 17:51:45\n",
      "Submission 68: supports\t\t\t2024-08-27 17:51:54\n",
      "Submission 69: supports\t\t\t2024-08-27 17:51:58\n",
      "Submission 70: supports\t\t\t2024-08-27 17:52:01\n",
      "Submission 71: supports\t\t\t2024-08-27 17:52:06\n",
      "Submission 72: supports\t\t\t2024-08-27 17:52:13\n",
      "Submission 73: supports\t\t\t2024-08-27 17:52:20\n",
      "Submission 74: supports\t\t\t2024-08-27 17:52:29\n",
      "Submission 75: supports\t\t\t2024-08-27 17:52:33\n",
      "Submission 76: supports\t\t\t2024-08-27 17:52:40\n",
      "Submission 77: supports\t\t\t2024-08-27 17:52:46\n",
      "Submission 78: supports\t\t\t2024-08-27 17:52:55\n",
      "Submission 79: supports\t\t\t2024-08-27 17:53:04\n",
      "Submission 80: supports\t\t\t2024-08-27 17:53:12\n",
      "Submission 81: supports\t\t\t2024-08-27 17:53:19\n",
      "Submission 82: supports\t\t\t2024-08-27 17:53:22\n",
      "Submission 83: supports\t\t\t2024-08-27 17:53:27\n",
      "Submission 84: supports\t\t\t2024-08-27 17:53:37\n",
      "Submission 85: supports\t\t\t2024-08-27 17:53:43\n",
      "Submission 86: supports\t\t\t2024-08-27 17:53:51\n",
      "Submission 87: supports\t\t\t2024-08-27 17:54:01\n",
      "Submission 88: supports\t\t\t2024-08-27 17:54:09\n",
      "Submission 89: supports\t\t\t2024-08-27 17:54:17\n",
      "Submission 90: supports\t\t\t2024-08-27 17:54:26\n",
      "Submission 91: opposes\t\t\t2024-08-27 17:54:32\n",
      "Submission 92: supports\t\t\t2024-08-27 17:54:35\n",
      "Submission 93: supports\t\t\t2024-08-27 17:54:42\n",
      "Submission 94: supports\t\t\t2024-08-27 17:54:49\n",
      "Submission 95: supports\t\t\t2024-08-27 17:54:58\n",
      "Submission 96: opposes\t\t\t2024-08-27 17:55:04\n",
      "Submission 97: supports\t\t\t2024-08-27 17:55:13\n",
      "Submission 98: supports\t\t\t2024-08-27 17:55:22\n",
      "Submission 99: supports\t\t\t2024-08-27 17:55:31\n",
      "Submission 100: supports\t\t\t2024-08-27 17:55:37\n",
      "Submission 101: supports\t\t\t2024-08-27 17:55:45\n",
      "Submission 102: supports\t\t\t2024-08-27 17:55:54\n",
      "Submission 103: supports\t\t\t2024-08-27 17:56:03\n",
      "Submission 104: opposes\t\t\t2024-08-27 17:56:10\n",
      "Submission 105: supports\t\t\t2024-08-27 17:56:18\n",
      "Submission 106: supports\t\t\t2024-08-27 17:56:27\n",
      "Submission 107: supports\t\t\t2024-08-27 17:56:33\n",
      "Submission 108: supports\t\t\t2024-08-27 17:56:37\n",
      "Submission 109: supports\t\t\t2024-08-27 17:56:40\n",
      "Submission 110: supports\t\t\t2024-08-27 17:56:47\n",
      "Submission 111: supports\t\t\t2024-08-27 17:56:56\n",
      "Submission 112: supports\t\t\t2024-08-27 17:57:04\n",
      "Submission 113: supports\t\t\t2024-08-27 17:57:10\n",
      "Submission 114: supports\t\t\t2024-08-27 17:57:19\n",
      "Submission 115: supports\t\t\t2024-08-27 17:57:28\n",
      "Submission 116: supports\t\t\t2024-08-27 17:57:37\n",
      "Submission 117: supports\t\t\t2024-08-27 17:57:46\n",
      "Submission 118: supports\t\t\t2024-08-27 17:57:53\n",
      "Submission 119: supports\t\t\t2024-08-27 17:57:57\n",
      "Submission 120: supports\t\t\t2024-08-27 17:58:05\n",
      "Submission 121: supports\t\t\t2024-08-27 17:58:14\n",
      "Submission 122: opposes\t\t\t2024-08-27 17:58:23\n",
      "Submission 123: opposes\t\t\t2024-08-27 17:58:28\n",
      "Submission 124: supports\t\t\t2024-08-27 17:58:36\n",
      "Submission 125: supports\t\t\t2024-08-27 17:58:46\n",
      "Submission 126: supports\t\t\t2024-08-27 17:58:55\n",
      "Submission 127: supports\t\t\t2024-08-27 17:59:04\n",
      "Submission 128: opposes\t\t\t2024-08-27 17:59:11\n",
      "Submission 129: supports\t\t\t2024-08-27 17:59:20\n",
      "Submission 130: supports\t\t\t2024-08-27 17:59:29\n",
      "Submission 131: supports\t\t\t2024-08-27 17:59:39\n",
      "Submission 132: supports\t\t\t2024-08-27 17:59:48\n",
      "Submission 133: supports\t\t\t2024-08-27 17:59:55\n",
      "Submission 134: supports\t\t\t2024-08-27 18:00:00\n",
      "Submission 135: supports\t\t\t2024-08-27 18:00:09\n",
      "Submission 136: supports\t\t\t2024-08-27 18:00:18\n",
      "Submission 137: supports\t\t\t2024-08-27 18:00:26\n",
      "Submission 138: supports\t\t\t2024-08-27 18:00:34\n",
      "Submission 139: supports\t\t\t2024-08-27 18:00:43\n",
      "Submission 140: supports\t\t\t2024-08-27 18:00:49\n",
      "Submission 141: opposes\t\t\t2024-08-27 18:00:57\n",
      "Submission 142: supports\t\t\t2024-08-27 18:01:05\n",
      "Submission 143: supports\t\t\t2024-08-27 18:01:15\n",
      "Submission 144: supports\t\t\t2024-08-27 18:01:24\n",
      "Submission 145: supports\t\t\t2024-08-27 18:01:29\n",
      "Submission 146: opposes\t\t\t2024-08-27 18:01:37\n",
      "Submission 147: supports\t\t\t2024-08-27 18:01:46\n",
      "Submission 148: supports\t\t\t2024-08-27 18:01:55\n",
      "Submission 149: opposes\t\t\t2024-08-27 18:02:04\n",
      "Submission 150: supports\t\t\t2024-08-27 18:02:11\n",
      "Submission 151: supports\t\t\t2024-08-27 18:02:21\n",
      "Submission 152: supports\t\t\t2024-08-27 18:02:30\n",
      "Submission 153: opposes\t\t\t2024-08-27 18:02:38\n",
      "Submission 154: supports\t\t\t2024-08-27 18:02:46\n",
      "Submission 155: supports\t\t\t2024-08-27 18:02:53\n",
      "Submission 156: supports\t\t\t2024-08-27 18:03:02\n",
      "Submission 157: supports\t\t\t2024-08-27 18:03:11\n",
      "Submission 158: supports\t\t\t2024-08-27 18:03:20\n",
      "Submission 159: opposes\t\t\t2024-08-27 18:03:27\n",
      "Submission 160: supports\t\t\t2024-08-27 18:03:35\n",
      "Submission 161: supports\t\t\t2024-08-27 18:03:45\n",
      "Submission 162: opposes\t\t\t2024-08-27 18:03:52\n",
      "Submission 163: supports\t\t\t2024-08-27 18:03:55\n",
      "Submission 164: supports\t\t\t2024-08-27 18:04:03\n",
      "Submission 165: opposes\t\t\t2024-08-27 18:04:12\n",
      "Submission 166: supports\t\t\t2024-08-27 18:04:20\n",
      "Submission 167: supports\t\t\t2024-08-27 18:04:28\n",
      "Submission 168: supports\t\t\t2024-08-27 18:04:36\n",
      "Submission 169: opposes\t\t\t2024-08-27 18:04:45\n",
      "Submission 170: supports\t\t\t2024-08-27 18:04:49\n",
      "Submission 171: supports\t\t\t2024-08-27 18:04:52\n",
      "Submission 172: supports\t\t\t2024-08-27 18:05:02\n",
      "Submission 173: opposes\t\t\t2024-08-27 18:05:07\n",
      "Submission 174: opposes\t\t\t2024-08-27 18:05:14\n",
      "Submission 175: supports\t\t\t2024-08-27 18:05:20\n",
      "Submission 176: opposes\t\t\t2024-08-27 18:05:29\n",
      "Submission 177: supports\t\t\t2024-08-27 18:05:38\n",
      "Submission 178: supports\t\t\t2024-08-27 18:05:47\n",
      "Submission 179: supports\t\t\t2024-08-27 18:05:54\n",
      "Submission 180: supports\t\t\t2024-08-27 18:05:59\n"
     ]
    }
   ],
   "source": [
    "def clean_support_or_oppose_or_unclear(text):\n",
    "    text = text.lower()\n",
    "    if 'supports' in text:\n",
    "        return 'supports'\n",
    "    elif 'opposes' in text:\n",
    "        return 'opposes'\n",
    "    else:\n",
    "        return 'unclear'\n",
    "\n",
    "#Loop and use LLM, each time save the df\n",
    "for index, row in df.iterrows():\n",
    "    if row['pdf_file_path']:\n",
    "        doc = pymupdf.open(row['pdf_file_path'])\n",
    "        text = chr(12).join([page.get_text() for page in doc])\n",
    "        response = ollama.chat(model='llama3:8b', messages=[\n",
    "          {\n",
    "            'role': 'user',\n",
    "            'content': prompt_supports_opposes + text[:max_text_length],\n",
    "          },\n",
    "        ])\n",
    "        current_time = datetime.now().strftime(\"%Y-%m-%d %H:%M:%S\")\n",
    "        llm_answer = clean_support_or_oppose_or_unclear(response['message']['content'])\n",
    "        df.at[index, \"support_sentiment\"] = llm_answer\n",
    "        df.to_csv('submissions.csv', index=False)\n",
    "        print(f\"Submission {index}: {llm_answer}\\t\\t\\t{current_time}\")\n",
    "    else:\n",
    "        print(f\"Skipping {index}\")"
   ]
  },
  {
   "cell_type": "code",
   "execution_count": 19,
   "id": "5029f902-5671-4674-aa39-15abc22ee486",
   "metadata": {},
   "outputs": [],
   "source": [
    "df = pd.read_csv('submissions.csv') #read again for file if starting here."
   ]
  },
  {
   "cell_type": "code",
   "execution_count": 39,
   "id": "76f96f7b-804d-4139-b2aa-9fbad4628e1c",
   "metadata": {},
   "outputs": [
    {
     "name": "stdout",
     "output_type": "stream",
     "text": [
      "130\n"
     ]
    }
   ],
   "source": [
    "not_org_df = df[df['org_ind'] != 'organisation']\n",
    "total_not_org = len(not_org_df)\n",
    "print(total_not_org)"
   ]
  },
  {
   "cell_type": "code",
   "execution_count": 40,
   "id": "5024fbab-5547-4517-b006-01bdbbf93752",
   "metadata": {},
   "outputs": [
    {
     "name": "stdout",
     "output_type": "stream",
     "text": [
      "114\n"
     ]
    }
   ],
   "source": [
    "total_supporting = len(not_org_df[not_org_df['support_sentiment'] == 'supports'])\n",
    "print(total_supporting)"
   ]
  },
  {
   "cell_type": "code",
   "execution_count": 42,
   "id": "b1f3d32f-23bd-4eef-b4fd-7c7fadbd7957",
   "metadata": {},
   "outputs": [
    {
     "name": "stdout",
     "output_type": "stream",
     "text": [
      "52\n"
     ]
    }
   ],
   "source": [
    "total_supporting_named = len(not_org_df[(not_org_df['support_sentiment'] == 'supports') & (not_org_df['type'] == 'named')])\n",
    "print(total_supporting_named)"
   ]
  },
  {
   "cell_type": "code",
   "execution_count": 43,
   "id": "422bac11-cd22-4b0a-ad99-cb6aebf9ff80",
   "metadata": {},
   "outputs": [
    {
     "name": "stdout",
     "output_type": "stream",
     "text": [
      "7\n"
     ]
    }
   ],
   "source": [
    "total_opposing = len(not_org_df[not_org_df['support_sentiment'] == 'opposes'])\n",
    "print(total_opposing)"
   ]
  },
  {
   "cell_type": "code",
   "execution_count": 44,
   "id": "cb94a801-03e4-4080-9f0f-f1e1ff7a856e",
   "metadata": {},
   "outputs": [
    {
     "name": "stdout",
     "output_type": "stream",
     "text": [
      "6\n"
     ]
    }
   ],
   "source": [
    "total_opposing_named = len(not_org_df[(not_org_df['support_sentiment'] == 'opposes') & (not_org_df['type'] == 'named')])\n",
    "print(total_opposing_named)"
   ]
  },
  {
   "cell_type": "code",
   "execution_count": 46,
   "id": "c246f1ef-5b22-4709-982c-6650e25a18f2",
   "metadata": {},
   "outputs": [
    {
     "data": {
      "text/plain": [
       "(0.45614035087719296, 0.8571428571428571)"
      ]
     },
     "execution_count": 46,
     "metadata": {},
     "output_type": "execute_result"
    }
   ],
   "source": [
    "total_supporting_named/total_supporting, total_opposing_named/total_opposing"
   ]
  },
  {
   "cell_type": "markdown",
   "id": "ea48ae84-12b7-47dc-97c2-9723020d84cc",
   "metadata": {},
   "source": [
    "# Summary based on 180 submissions (partial) - ignoring organization submissions at this point\n",
    "\n",
    "From 130 individual submissions, there are 114 supporting and 7 opposing. Others are unclear.\n",
    "\n",
    "From the 114 supporting, 52 are named. This is only 46%.\n",
    "\n",
    "From the 7 oppposing, 6 are named. This is 86%. \n",
    "\n",
    "Also note that submission 176 has 8 named people on it (untypical submission). It is an opposing submission. With this the number of opposing is 14, and number named are 13. That is 93%.\n",
    "\n",
    "While the numbers are small, it appears obvious that individuals supporting feel they want to be kept unnamed at a much higher rate. About one in two people. While those opposing are confident to do it publically (about 9 in 10 people)."
   ]
  },
  {
   "cell_type": "code",
   "execution_count": null,
   "id": "e2911c32-f268-4575-a6bd-5e5b05618a16",
   "metadata": {},
   "outputs": [],
   "source": []
  }
 ],
 "metadata": {
  "kernelspec": {
   "display_name": "Python (myenv)",
   "language": "python",
   "name": "myenv"
  },
  "language_info": {
   "codemirror_mode": {
    "name": "ipython",
    "version": 3
   },
   "file_extension": ".py",
   "mimetype": "text/x-python",
   "name": "python",
   "nbconvert_exporter": "python",
   "pygments_lexer": "ipython3",
   "version": "3.12.5"
  }
 },
 "nbformat": 4,
 "nbformat_minor": 5
}
