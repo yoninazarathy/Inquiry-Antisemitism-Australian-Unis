{
 "cells": [
  {
   "cell_type": "code",
   "execution_count": 1,
   "id": "50af8417-e4e6-48d2-9da3-8cc6e33958fd",
   "metadata": {},
   "outputs": [],
   "source": [
    "import pandas as pd\n",
    "import re\n",
    "import os"
   ]
  },
  {
   "cell_type": "code",
   "execution_count": 2,
   "id": "aa810478-d54a-457b-9394-218d58721e09",
   "metadata": {},
   "outputs": [],
   "source": [
    "df = pd.DataFrame(columns=[\"no\", \"org_ind\", \"type\", \"name\", \"state\", \"num_pages\", \"file_size\", \"sentiment\"])"
   ]
  },
  {
   "cell_type": "code",
   "execution_count": 3,
   "id": "67f5d1df-ef17-4b1e-83a0-454529275a67",
   "metadata": {},
   "outputs": [],
   "source": [
    "file_path = 'downloaded_html/Flat_Submissions.rawh'\n",
    "with open(file_path, 'r', encoding='utf-8') as file:\n",
    "    content = file.read()\n",
    "named_submissions = re.findall(r'<td>(\\d+)</td><td><strong>(.*?)</strong>', content)\n",
    "named_submissions_dict = {int(key): value for key, value in named_submissions}\n",
    "namewithheld_submissions = re.findall(r'<td>(\\d+)</td><td>Name Withheld&nbsp', content)\n",
    "confidential_submissions = re.findall(r'<td>(\\d+)</td><td>Confidential</td>', content)"
   ]
  },
  {
   "cell_type": "code",
   "execution_count": 4,
   "id": "cb373aaf-5fc5-4da6-9f49-dddc9c59af53",
   "metadata": {},
   "outputs": [],
   "source": [
    "named_set = set([int(t[0]) for t in named_submissions])\n",
    "namewithheld_set = set([int(t) for t in namewithheld_submissions])\n",
    "confidential_set = set([int(t) for t in confidential_submissions])\n",
    "assert not (named_set & namewithheld_set & confidential_set) #See no intersections"
   ]
  },
  {
   "cell_type": "code",
   "execution_count": 5,
   "id": "dced2574-a01a-4cf4-97c6-c40e6fdcf4d8",
   "metadata": {},
   "outputs": [
    {
     "data": {
      "text/plain": [
       "(180, 1, 180)"
      ]
     },
     "execution_count": 5,
     "metadata": {},
     "output_type": "execute_result"
    }
   ],
   "source": [
    "all_numbers = named_set | namewithheld_set | confidential_set\n",
    "nn = len(all_numbers)\n",
    "nn, min(all_numbers), max(all_numbers)"
   ]
  },
  {
   "cell_type": "code",
   "execution_count": 6,
   "id": "c61a8974-c657-4de7-95aa-078157a10e51",
   "metadata": {},
   "outputs": [],
   "source": [
    "for i in range(1,nn+1):\n",
    "    if i in named_set:\n",
    "        df.loc[i] = [i, \"\", \"named\", named_submissions_dict[i], \"\", -1, -1, -1]\n",
    "    elif i in namewithheld_set:\n",
    "        df.loc[i] = [i, \"\", \"name-withheld\", \"\", \"\", -1, -1, -1]\n",
    "    elif i in confidential_set:\n",
    "        df.loc[i] = [i, \"\", \"confidential\", \"\", \"\", -1, -1, -1]\n",
    "    else:\n",
    "        raise ValueError(\"Error\")"
   ]
  },
  {
   "cell_type": "markdown",
   "id": "c6c29c04-4dd0-4bbe-963f-8e2d0b2c940c",
   "metadata": {},
   "source": [
    "### Determine the state"
   ]
  },
  {
   "cell_type": "code",
   "execution_count": 7,
   "id": "8809f5ed-22fb-4b74-bd8c-fe964ce591e5",
   "metadata": {},
   "outputs": [
    {
     "name": "stdout",
     "output_type": "stream",
     "text": [
      "['ACT', 'NSW', 'QLD', 'SA', 'Unavailable Information', 'VIC', 'WA']\n"
     ]
    }
   ],
   "source": [
    "file_path = 'downloaded_html/State_Ter_Submissions.rawh'\n",
    "with open(file_path, 'r', encoding='utf-8') as file:\n",
    "    content = file.read()\n",
    "pattern = re.compile(r\"Submissions from : <strong>(.*?)</strong></p>(.*?)((?=<p>Submissions from : <strong>)|$)\", re.DOTALL)\n",
    "matches = pattern.findall(content)\n",
    "states_options = [m[0] for m in matches]\n",
    "print(states_options)"
   ]
  },
  {
   "cell_type": "code",
   "execution_count": 8,
   "id": "cddff98b-2af6-48dc-a3eb-39c90db3f4bc",
   "metadata": {},
   "outputs": [],
   "source": [
    "for m in matches:\n",
    "    state = m[0]\n",
    "    nums = [int(ss) for ss in re.findall(r'<td>(\\d+)</td><td><strong>.*?</strong>', m[1])]\n",
    "    for i in nums:\n",
    "        df.at[i, \"state\"] = state"
   ]
  },
  {
   "cell_type": "markdown",
   "id": "a2263255-1da4-46ae-89ea-2ae210fd8dfe",
   "metadata": {},
   "source": [
    "### Determine if by organization or individual"
   ]
  },
  {
   "cell_type": "code",
   "execution_count": 9,
   "id": "ce2a3476-dacb-4925-87db-1c1c96236269",
   "metadata": {},
   "outputs": [],
   "source": [
    "file_path = 'downloaded_html/Org_Ind_Submissions.rawh'\n",
    "with open(file_path, 'r', encoding='utf-8') as file:\n",
    "    content = file.read()\n",
    "pattern = re.compile(r\"Submissions by : <strong>(.*?)</strong></p>(.*?)((?=<p>Submissions by : <strong>)|$)\", re.DOTALL)\n",
    "matches = pattern.findall(content)"
   ]
  },
  {
   "cell_type": "code",
   "execution_count": 10,
   "id": "caee418d-a352-4b83-9571-a2a728b40355",
   "metadata": {},
   "outputs": [],
   "source": [
    "for m in matches:\n",
    "    type_sub = m[0]\n",
    "    sub_matches = [int(ss) for ss in re.findall(r'<td>(\\d+)</td><td><strong>.*?</strong>', m[1])]\n",
    "    if type_sub == 'Individual':\n",
    "        for i in sub_matches:\n",
    "            df.at[i,\"org_ind\"] = \"individual\"\n",
    "    if type_sub == 'Organisation':\n",
    "        for i in sub_matches:\n",
    "            df.at[i,\"org_ind\"] = \"organisation\""
   ]
  },
  {
   "cell_type": "markdown",
   "id": "3925c4cf-357b-424b-a182-9743142a9478",
   "metadata": {},
   "source": [
    "### Save the dataframe"
   ]
  },
  {
   "cell_type": "code",
   "execution_count": 11,
   "id": "9b45f160-3018-4516-854d-7d9a176960dc",
   "metadata": {},
   "outputs": [],
   "source": [
    "df.to_csv('submissions.csv', index=False)"
   ]
  },
  {
   "cell_type": "code",
   "execution_count": null,
   "id": "267ad5ed-4e0f-4547-81d3-dc060ce38513",
   "metadata": {},
   "outputs": [],
   "source": []
  }
 ],
 "metadata": {
  "kernelspec": {
   "display_name": "Python (myenv)",
   "language": "python",
   "name": "myenv"
  },
  "language_info": {
   "codemirror_mode": {
    "name": "ipython",
    "version": 3
   },
   "file_extension": ".py",
   "mimetype": "text/x-python",
   "name": "python",
   "nbconvert_exporter": "python",
   "pygments_lexer": "ipython3",
   "version": "3.12.5"
  }
 },
 "nbformat": 4,
 "nbformat_minor": 5
}
